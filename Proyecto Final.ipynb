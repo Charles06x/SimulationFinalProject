{
 "cells": [
  {
   "cell_type": "markdown",
   "metadata": {},
   "source": [
    "# Final Project\n",
    "#### This notebook simulates the behaviour of a carwash\n",
    "#### given a set of interarrival time and service time\n",
    "#### we will find the statistic metrics, the distribution and analyze the results."
   ]
  },
  {
   "cell_type": "code",
   "execution_count": 187,
   "metadata": {},
   "outputs": [],
   "source": [
    "from numpy import mean\n",
    "from scipy import stats\n",
    "import numpy as np\n",
    "from random import expovariate\n",
    "import matplotlib.pyplot as plt"
   ]
  },
  {
   "cell_type": "markdown",
   "metadata": {},
   "source": [
    "# Load the data:"
   ]
  },
  {
   "cell_type": "code",
   "execution_count": 293,
   "metadata": {},
   "outputs": [],
   "source": [
    "dataset = np.loadtxt(\"data.txt\", delimiter=',')\n",
    "arrives = dataset[:,0]\n",
    "services = dataset[:,1]\n",
    "it = np.array([i for i in range(len(arrives))])"
   ]
  },
  {
   "cell_type": "markdown",
   "metadata": {},
   "source": [
    "# Find p value for arrives and services:"
   ]
  },
  {
   "cell_type": "code",
   "execution_count": 303,
   "metadata": {},
   "outputs": [],
   "source": [
    "Slope, Intercept, RValue, PValue, StdErr = stats.linregress(dataset)"
   ]
  },
  {
   "cell_type": "markdown",
   "metadata": {},
   "source": [
    "# Auto correlation"
   ]
  },
  {
   "cell_type": "code",
   "execution_count": 305,
   "metadata": {},
   "outputs": [
    {
     "name": "stdout",
     "output_type": "stream",
     "text": [
      "The resulting p value for arrives is: 0.30076797128732774 and its greater than 0.05.\n",
      "\n",
      "Autocorrelation for arrives is:  [ 1.          0.9         0.80044494  0.70177976  0.60444939  0.50889878\n",
      "  0.41557286  0.32491657  0.23737486  0.15339266  0.07341491 -0.00211346\n",
      " -0.0727475  -0.13804227 -0.19755284 -0.25083426 -0.2974416  -0.33692992\n",
      " -0.36885428 -0.39276974 -0.40823137 -0.41479422 -0.41201335 -0.39944383\n",
      " -0.37664071 -0.34315907 -0.29855395 -0.24238042 -0.17419355 -0.09354839]\n"
     ]
    }
   ],
   "source": [
    "if(arrivesPValue>0.05):\n",
    "    print(\"The resulting p value for arrives is: {} and its greater than 0.05.\\n\".format(arrivesPValue))\n",
    "    r = (np.correlate(it-it.mean(),it-it.mean(), mode='full'))/(it.var()*len(it))\n",
    "    arrivesAutoCor = r[r.size//2:]\n",
    "    print(\"Autocorrelation for arrives is: \", arrivesAutoCor)\n",
    "else:\n",
    "    print(\"P value for arrives is {}, the condition is not met.\".format(arrivesPValue))"
   ]
  },
  {
   "cell_type": "code",
   "execution_count": 306,
   "metadata": {},
   "outputs": [],
   "source": [
    "#Set the distributions list\n",
    "distributions = [\n",
    "    \"gamma\",\n",
    "    \"expon\",\n",
    "    \"lognorm\",\n",
    "    \"weibull_min\",  \n",
    "    \"weibull_max\",\n",
    "    \"norm\"\n",
    "]"
   ]
  },
  {
   "cell_type": "markdown",
   "metadata": {},
   "source": [
    "# Find distribution"
   ]
  },
  {
   "cell_type": "markdown",
   "metadata": {},
   "source": [
    "## for arrives"
   ]
  },
  {
   "cell_type": "code",
   "execution_count": 307,
   "metadata": {},
   "outputs": [
    {
     "name": "stdout",
     "output_type": "stream",
     "text": [
      "P Values for each distribution:\n",
      "\n",
      "gamma: 0.017726561468500712\n",
      "expon: 0.8575377339716195\n",
      "lognorm: 0.8205905276555825\n",
      "weibull_min: 0.001076672930113265\n",
      "weibull_max: 2.220446049250313e-16\n",
      "norm: 0.39714998744337104\n",
      "\n",
      "The correct distribution for the dataset is expon as it has the highest p value (0.8575377339716195).\n"
     ]
    }
   ],
   "source": [
    "arrivesDistributionResults = []\n",
    "for distName in distributions:\n",
    "    dist = getattr(stats, distName)\n",
    "    fittedData = dist.fit(arrives)\n",
    "    D, p = stats.kstest(arrives, distName, args=fittedData);\n",
    "    arrivesDistributionResults.append((distName,p))\n",
    "auxP = 0\n",
    "arrivesAuxDist = \"\"\n",
    "print(\"P Values for each distribution:\\n\")\n",
    "for distribution in arrivesDistributionResults:\n",
    "    print(\"{}: {}\".format(distribution[0], distribution[1]))\n",
    "    if(auxP<distribution[1]):\n",
    "        auxP = distribution[1]\n",
    "        arrivesAuxDist = distribution[0]\n",
    "print(\"\\nThe correct distribution for the dataset is {0} as it has the highest p value ({1}).\".format(arrivesAuxDist,auxP))"
   ]
  },
  {
   "cell_type": "markdown",
   "metadata": {},
   "source": [
    "## for services"
   ]
  },
  {
   "cell_type": "code",
   "execution_count": 308,
   "metadata": {},
   "outputs": [
    {
     "name": "stdout",
     "output_type": "stream",
     "text": [
      "P Values for each distribution:\n",
      "\n",
      "gamma: 0.992276174713438\n",
      "expon: 0.08448985297392575\n",
      "lognorm: 1.4741541320972829e-12\n",
      "weibull_min: 1.5543122344752192e-15\n",
      "weibull_max: 0.0\n",
      "norm: 0.9945787734080286\n",
      "\n",
      "The correct distribution for the dataset is norm as it has the highest p value (0.9945787734080286).\n"
     ]
    }
   ],
   "source": [
    "servicesDistributionResults = []\n",
    "for distName in distributions:\n",
    "    dist = getattr(stats, distName)\n",
    "    fittedData = dist.fit(services)\n",
    "    D, p = stats.kstest(services, distName, args=fittedData);\n",
    "    servicesDistributionResults.append((distName,p))\n",
    "auxP = 0\n",
    "servicesAuxDist = \"\"\n",
    "print(\"P Values for each distribution:\\n\")\n",
    "for distribution in servicesDistributionResults:\n",
    "    print(\"{}: {}\".format(distribution[0], distribution[1]))\n",
    "    if(auxP<distribution[1]):\n",
    "        auxP = distribution[1]\n",
    "        servicesAuxDist = distribution[0]\n",
    "print(\"\\nThe correct distribution for the dataset is {0} as it has the highest p value ({1}).\".format(servicesAuxDist,auxP))"
   ]
  },
  {
   "cell_type": "code",
   "execution_count": 266,
   "metadata": {},
   "outputs": [],
   "source": [
    "#This block has the function that is intended to calculate the arrival and service time in a random way\n",
    "#based on the amount of minutes of work in a day.\n",
    "\n",
    "##It returns two lists: arrival times and services times.\n",
    "\n",
    "def generateArrivalAndServiceTimes():\n",
    "    workingDay = 8*60 #8 hours expressed in minutes.\n",
    "    arrivals = [] #This will contain the arrival times for n works in a day.\n",
    "    services = [] #This will contain the service times for n works in a day.\n",
    "    totalAmountOfHours = 0\n",
    "    while totalAmountOfHours < workingDay:\n",
    "        nArrivalTime = expovariate(0.5)\n",
    "        nServiceTime = expovariate(0.6)\n",
    "        totalAmountOfHours += nArrivalTime\n",
    "        arrivals.append(nArrivalTime)\n",
    "        services.append(nServiceTime)\n",
    "    return arrivals, services"
   ]
  },
  {
   "cell_type": "code",
   "execution_count": null,
   "metadata": {},
   "outputs": [],
   "source": []
  }
 ],
 "metadata": {
  "kernelspec": {
   "display_name": "Python 3",
   "language": "python",
   "name": "python3"
  },
  "language_info": {
   "codemirror_mode": {
    "name": "ipython",
    "version": 3
   },
   "file_extension": ".py",
   "mimetype": "text/x-python",
   "name": "python",
   "nbconvert_exporter": "python",
   "pygments_lexer": "ipython3",
   "version": "3.6.5"
  }
 },
 "nbformat": 4,
 "nbformat_minor": 2
}
