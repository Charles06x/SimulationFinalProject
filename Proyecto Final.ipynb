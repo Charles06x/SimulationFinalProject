{
 "cells": [
  {
   "cell_type": "markdown",
   "metadata": {},
   "source": [
    "# Final Project\n",
    "#### This notebook simulates the behaviour of a carwash\n",
    "#### given a set of interarrival time and service time\n",
    "#### we will find the statistic metrics, the distribution and analyze the results."
   ]
  },
  {
   "cell_type": "code",
   "execution_count": 2,
   "metadata": {},
   "outputs": [],
   "source": [
    "from numpy import mean\n",
    "from scipy import stats\n",
    "import numpy as np\n",
    "from random import expovariate\n",
    "import matplotlib.pyplot as plt"
   ]
  },
  {
   "cell_type": "markdown",
   "metadata": {},
   "source": [
    "# Load the data:"
   ]
  },
  {
   "cell_type": "code",
   "execution_count": 3,
   "metadata": {},
   "outputs": [],
   "source": [
    "dataset = np.loadtxt(\"data.txt\", delimiter=',')\n",
    "arrives = dataset[:,0]\n",
    "services = dataset[:,1]\n",
    "it = np.array([i for i in range(len(arrives))])"
   ]
  },
  {
   "cell_type": "markdown",
   "metadata": {},
   "source": [
    "# Find p value for arrives and services:"
   ]
  },
  {
   "cell_type": "code",
   "execution_count": 11,
   "metadata": {},
   "outputs": [],
   "source": [
    "Slope, Intercept, RValue, PValue, StdErr = stats.linregress(dataset)"
   ]
  },
  {
   "cell_type": "markdown",
   "metadata": {},
   "source": [
    "# Auto correlation"
   ]
  },
  {
   "cell_type": "code",
   "execution_count": 12,
   "metadata": {},
   "outputs": [
    {
     "name": "stdout",
     "output_type": "stream",
     "text": [
      "The resulting p value for arrives is: 0.30076797128732774 and its greater than 0.05.\n",
      "\n",
      "Autocorrelation for arrives is:  [ 1.          0.9         0.80044494  0.70177976  0.60444939  0.50889878\n",
      "  0.41557286  0.32491657  0.23737486  0.15339266  0.07341491 -0.00211346\n",
      " -0.0727475  -0.13804227 -0.19755284 -0.25083426 -0.2974416  -0.33692992\n",
      " -0.36885428 -0.39276974 -0.40823137 -0.41479422 -0.41201335 -0.39944383\n",
      " -0.37664071 -0.34315907 -0.29855395 -0.24238042 -0.17419355 -0.09354839]\n"
     ]
    }
   ],
   "source": [
    "if(PValue>0.05):\n",
    "    print(\"The resulting p value for arrives is: {} and its greater than 0.05.\\n\".format(PValue))\n",
    "    r = (np.correlate(it-it.mean(),it-it.mean(), mode='full'))/(it.var()*len(it))\n",
    "    arrivesAutoCor = r[r.size//2:]\n",
    "    print(\"Autocorrelation for arrives is: \", arrivesAutoCor)\n",
    "else:\n",
    "    print(\"P value for arrives is {}, the condition is not met.\".format(PValue))"
   ]
  },
  {
   "cell_type": "code",
   "execution_count": 13,
   "metadata": {},
   "outputs": [],
   "source": [
    "#Set the distributions list\n",
    "distributions = [\n",
    "    \"gamma\",\n",
    "    \"expon\",\n",
    "    \"lognorm\",\n",
    "    \"weibull_min\",  \n",
    "    \"weibull_max\",\n",
    "    \"norm\"\n",
    "]"
   ]
  },
  {
   "cell_type": "markdown",
   "metadata": {},
   "source": [
    "# Find distribution"
   ]
  },
  {
   "cell_type": "markdown",
   "metadata": {},
   "source": [
    "## for arrives"
   ]
  },
  {
   "cell_type": "code",
   "execution_count": 16,
   "metadata": {},
   "outputs": [
    {
     "name": "stdout",
     "output_type": "stream",
     "text": [
      "P Values for each distribution and fit parameter: \n",
      "\n",
      "gamma: 0.017726561468500712\n",
      "expon: 0.8575377339716195\n",
      "lognorm: 0.8205905276555825\n",
      "weibull_min: 0.001076672930113265\n",
      "weibull_max: 2.220446049250313e-16\n",
      "norm: 0.39714998744337104\n",
      "\n",
      "The correct distribution for the dataset is expon as it has the highest p value (0.8575377339716195).\n"
     ]
    }
   ],
   "source": [
    "arrivesDistributionResults = []\n",
    "for distName in distributions:\n",
    "    dist = getattr(stats, distName)\n",
    "    fittedData = dist.fit(arrives)\n",
    "    D, p = stats.kstest(arrives, distName, args=fittedData);\n",
    "    arrivesDistributionResults.append((distName,p,fittedData))\n",
    "auxP = 0\n",
    "arrivesAuxDist = \"\"\n",
    "print(\"P Values for each distribution and fit parameter: \\n\")\n",
    "for distribution in arrivesDistributionResults:\n",
    "    print(\"{}: {}\".format(distribution[0], distribution[1]))\n",
    "    if(auxP<distribution[1]):\n",
    "        arrivesAuxDist = distribution[0]\n",
    "        auxP = distribution[1]\n",
    "        arrivesAuxParams = distribution[2]\n",
    "print(\"\\nThe correct distribution for the dataset is {0} as it has the highest p value ({1}).\".format(arrivesAuxDist,auxP))"
   ]
  },
  {
   "cell_type": "markdown",
   "metadata": {},
   "source": [
    "## for services"
   ]
  },
  {
   "cell_type": "code",
   "execution_count": 17,
   "metadata": {},
   "outputs": [
    {
     "name": "stdout",
     "output_type": "stream",
     "text": [
      "P Values for each distribution:\n",
      "\n",
      "gamma: 0.992276174713438\n",
      "expon: 0.08448985297392575\n",
      "lognorm: 1.4741541320972829e-12\n",
      "weibull_min: 1.5543122344752192e-15\n",
      "weibull_max: 0.0\n",
      "norm: 0.9945787734080286\n",
      "\n",
      "The correct distribution for the dataset is norm as it has the highest p value (0.9945787734080286).\n"
     ]
    }
   ],
   "source": [
    "servicesDistributionResults = []\n",
    "for distName in distributions:\n",
    "    dist = getattr(stats, distName)\n",
    "    fittedData = dist.fit(services)\n",
    "    D, p = stats.kstest(services, distName, args=fittedData);\n",
    "    servicesDistributionResults.append((distName,p,fittedData))\n",
    "auxP = 0\n",
    "servicesAuxDist = \"\"\n",
    "print(\"P Values for each distribution:\\n\")\n",
    "for distribution in servicesDistributionResults:\n",
    "    print(\"{}: {}\".format(distribution[0], distribution[1]))\n",
    "    if(auxP<distribution[1]):\n",
    "        servicesAuxDist = distribution[0]\n",
    "        auxP = distribution[1]\n",
    "        servicesAuxParams = distribution[2]\n",
    "print(\"\\nThe correct distribution for the dataset is {0} as it has the highest p value ({1}).\".format(servicesAuxDist,auxP))"
   ]
  },
  {
   "cell_type": "code",
   "execution_count": 18,
   "metadata": {},
   "outputs": [],
   "source": [
    "arrivalsDist = getattr(stats, arrivesAuxDist)\n",
    "servicesDist = getattr(stats, servicesAuxDist)"
   ]
  },
  {
   "cell_type": "code",
   "execution_count": 55,
   "metadata": {},
   "outputs": [],
   "source": [
    "#This block has the function that is intended to calculate the arrival and service time in a random way\n",
    "#based on the amount of minutes of work in a day.\n",
    "\n",
    "##It returns two lists: arrival times and services times.\n",
    "\n",
    "def generateArrivalAndServiceTimes():\n",
    "    workingDay = 9*60 #9 hours expressed in minutes.\n",
    "    arrivals = [0] #This will contain the arrival times for n works in a day.\n",
    "    services = [0] #This will contain the service times for n works in a day.\n",
    "    totalAmountOfHours = 0\n",
    "    while totalAmountOfHours < workingDay:\n",
    "        nArrivalTime = arrivalsDist.rvs(loc=arrivesAuxParams[-2], scale=arrivesAuxParams[-1])\n",
    "        nServiceTime = servicesDist.rvs(loc=servicesAuxParams[-2], scale=servicesAuxParams[-1])\n",
    "        totalAmountOfHours += nServiceTime\n",
    "        arrivals.append(nArrivalTime)\n",
    "        services.append(nServiceTime)\n",
    "    return arrivals, services"
   ]
  },
  {
   "cell_type": "code",
   "execution_count": 59,
   "metadata": {},
   "outputs": [],
   "source": [
    "#This blocks contains the delay time function\n",
    "\n",
    "##It returns two lists: delay time, and departure time.\n",
    "\n",
    "def delayTime(a, s):\n",
    "    c = [0.0]*len(a)\n",
    "    i = 0\n",
    "    d = [0.0]*len(a)\n",
    "    while i < len(a)-1:\n",
    "        i+=1\n",
    "        if a[i] < c[i-1]:\n",
    "            d[i] = c[i-1] - a[i]\n",
    "        else:\n",
    "            d[i] = 0\n",
    "        c[i] = a[i] + d[i] + s[i]\n",
    "    return d, c"
   ]
  },
  {
   "cell_type": "code",
   "execution_count": 60,
   "metadata": {},
   "outputs": [],
   "source": [
    "#This block contains the job-averaged statistics\n",
    "\n",
    "def averageInterarrival(a):\n",
    "    r = mean(a)\n",
    "    aR = 1/r\n",
    "    return r, aR\n",
    "\n",
    "def averageService(s):\n",
    "    s = mean(s)\n",
    "    sR = 1/s\n",
    "    return s, sR\n",
    "\n",
    "def averageDelay(delay):\n",
    "    d = mean(delay)\n",
    "    return d\n",
    "\n",
    "def averageWait(d, s):\n",
    "    w = mean(d) + mean(s)\n",
    "    return w"
   ]
  },
  {
   "cell_type": "code",
   "execution_count": 61,
   "metadata": {},
   "outputs": [],
   "source": [
    "#This block contains the time-averaged statistics using little's theorem.\n",
    "\n",
    "#Ew //Sumatory of w divided by thao.\n",
    "#It recieves three parameters: delay times (list), service times (list), departure times (list).\n",
    "def little_jobsInServiceNode(d, s, c):\n",
    "    w = 0.0\n",
    "    for i, j in zip(d, s):\n",
    "        w+=(i+j)\n",
    "    return w/c[-1]\n",
    "\n",
    "#Ed //Sumatory of d divided by thao\n",
    "#It recieves two parameters: delay times (list), departure times (list).\n",
    "def little_jobsInQueue(d, c):\n",
    "    sumD = 0.0\n",
    "    for i in d:\n",
    "        sumD+=i\n",
    "    return sumD/c[-1]\n",
    "\n",
    "#Es //Sumatory of s divided by thao\n",
    "#It recieves two parameters: service times (list), departure times (list).\n",
    "def little_jobsInService(s, c):\n",
    "    sumS = 0.0\n",
    "    for i in s:\n",
    "        sumS+=i\n",
    "    return sumS/c[-1]"
   ]
  },
  {
   "cell_type": "code",
   "execution_count": 62,
   "metadata": {},
   "outputs": [],
   "source": [
    "#This blocks contains the interval estimation function.\n",
    "#Recieves a list and a number as parameters.\n",
    "def intervalEstimation(data, confidence):\n",
    "    xMean = mean(data)\n",
    "    s2 = 0\n",
    "    for i in data:\n",
    "        s2 += (i - xMean)**2  \n",
    "    s2 = s2/len(data)\n",
    "    s = s2**(1/2) #Standard deviation\n",
    "    alpha = (100 - confidence)/100\n",
    "    t = 1-alpha/2\n",
    "    \n",
    "    start = xMean - (t * s)/(len(data)-1)**(1/2)\n",
    "    end = xMean + (t * s)/(len(data)-1)**(1/2)\n",
    "    \n",
    "    interval = {'start': start, 'end': end}\n",
    "    return interval"
   ]
  },
  {
   "cell_type": "code",
   "execution_count": 71,
   "metadata": {},
   "outputs": [
    {
     "name": "stdout",
     "output_type": "stream",
     "text": [
      "###########  Results ############\n",
      "\n",
      "#### Amount of jobs intervals: {'start': 9.042161693386925, 'end': 9.357838306613074}\n",
      "\n",
      "#### Job-average statistics intervals: \n",
      "\n",
      "Average interarrival time intervals: {'start': 15.695092476861186, 'end': 17.49717825687081} | Arrivals rate intervals: {'start': 0.06226705676215353, 'end': 0.06934217493290497}\n",
      "\n",
      "Average service time intervals: {'start': 61.78365301476109, 'end': 63.74213511605736} | Service rate intervals: {'start': 0.015795300463714645, 'end': 0.01631690819146481}\n",
      "\n",
      "Average delay time intervals: {'start': 215.13797733768533, 'end': 222.6174911222195}\n",
      "\n",
      "Average wait time intervals: {'start': 278.1903689513915, 'end': 285.09088763933164}\n",
      "\n",
      "#################################\n",
      "\n",
      "#### Time-average statistics intervals: \n",
      "\n",
      "Intervals for time in service node: {'start': 4.314535695572376, 'end': 4.498251292013531}\n",
      "\n",
      "Intervals for time in queue: {'start': 3.3400526363859644, 'end': 3.524433184012806}\n",
      "\n",
      "Intervals for time in service: {'start': 0.970810078620966, 'end': 0.977491088566172}\n",
      "\n"
     ]
    }
   ],
   "source": [
    "amountOfJobs = []\n",
    "\n",
    "avgInterarrivals = []; arrivalRate = []; avgServices = []; serviceRate = []; avgDelays = []; avgWaits = []\n",
    "\n",
    "jbsInServiceNode = []; jbsInQueue = []; jbsInService = []\n",
    "for i in range(30):\n",
    "    arrivals, services = generateArrivalAndServiceTimes()\n",
    "    amountOfJobs.append(len(arrivals))\n",
    "    delays, c = delayTime(arrivals, services)\n",
    "    aI, aR = averageInterarrival(arrivals)\n",
    "    avgInterarrivals.append(aI); arrivalRate.append(aR)\n",
    "    \n",
    "    aS, sR = averageService(services)\n",
    "    avgServices.append(aS); serviceRate.append(sR)\n",
    "    \n",
    "    avgDelays.append(averageDelay(delays)); avgWaits.append(averageWait(delays, services))\n",
    "    \n",
    "    jbsInServiceNode.append(little_jobsInServiceNode(delays, services, c))\n",
    "    jbsInQueue.append(little_jobsInQueue(delays, c))\n",
    "    jbsInService.append(little_jobsInService(services, c))    \n",
    "\n",
    "print(\"###########  Results ############\\n\")\n",
    "print(\"#### Amount of jobs intervals: {}\\n\".format(intervalEstimation(amountOfJobs, 95)))\n",
    "\n",
    "print(\"#### Job-average statistics intervals: \\n\")\n",
    "print(\"Average interarrival time intervals: {} | Arrivals rate intervals: {}\\n\".format(intervalEstimation(avgInterarrivals, 95), intervalEstimation(arrivalRate, 95)))\n",
    "print(\"Average service time intervals: {} | Service rate intervals: {}\\n\".format(intervalEstimation(avgServices, 95), intervalEstimation(serviceRate, 95)))\n",
    "print(\"Average delay time intervals: {}\\n\".format(intervalEstimation(avgDelays, 95)))\n",
    "print(\"Average wait time intervals: {}\\n\".format(intervalEstimation(avgWaits, 95)))\n",
    "\n",
    "print(\"#################################\\n\")\n",
    "print(\"#### Time-average statistics intervals: \\n\")\n",
    "print(\"Intervals for time in service node: {}\\n\".format(intervalEstimation(jbsInServiceNode, 95)))\n",
    "print(\"Intervals for time in queue: {}\\n\".format(intervalEstimation(jbsInQueue, 95)))\n",
    "print(\"Intervals for time in service: {}\\n\".format(intervalEstimation(jbsInService, 95)))"
   ]
  },
  {
   "cell_type": "code",
   "execution_count": null,
   "metadata": {},
   "outputs": [],
   "source": []
  },
  {
   "cell_type": "code",
   "execution_count": null,
   "metadata": {},
   "outputs": [],
   "source": []
  }
 ],
 "metadata": {
  "kernelspec": {
   "display_name": "Python 3",
   "language": "python",
   "name": "python3"
  },
  "language_info": {
   "codemirror_mode": {
    "name": "ipython",
    "version": 3
   },
   "file_extension": ".py",
   "mimetype": "text/x-python",
   "name": "python",
   "nbconvert_exporter": "python",
   "pygments_lexer": "ipython3",
   "version": "3.6.5"
  }
 },
 "nbformat": 4,
 "nbformat_minor": 2
}
