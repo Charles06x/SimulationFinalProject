{
 "cells": [
  {
   "cell_type": "markdown",
   "metadata": {},
   "source": [
    "# Final Project\n",
    "#### This notebook simulates the behaviour of a carwash\n",
    "#### given a set of interarrival time and service time\n",
    "#### we will find the statistic metrics, the distribution and analyze the results."
   ]
  },
  {
   "cell_type": "code",
   "execution_count": 174,
   "metadata": {},
   "outputs": [],
   "source": [
    "from numpy import mean\n",
    "from scipy import stats\n",
    "import numpy as np\n",
    "from random import expovariate"
   ]
  },
  {
   "cell_type": "markdown",
   "metadata": {},
   "source": [
    "# Load the data:"
   ]
  },
  {
   "cell_type": "code",
   "execution_count": 175,
   "metadata": {},
   "outputs": [],
   "source": [
    "dataset = np.loadtxt(\"data.txt\", delimiter=',')\n",
    "arrives = dataset[:,0]\n",
    "services = dataset[:,1]\n",
    "it = np.array([i for i in range(len(arrives))])"
   ]
  },
  {
   "cell_type": "markdown",
   "metadata": {},
   "source": [
    "# Find p value for arrives and services:"
   ]
  },
  {
   "cell_type": "code",
   "execution_count": 176,
   "metadata": {},
   "outputs": [],
   "source": [
    "arrivesSlope, arrivesIntercept, arrivesRValue, arrivesPValue, arrivesStdErr = stats.linregress(it, arrives)\n",
    "servicesSlope, servicesIntercept, servicesRValue, servicesPValue, servicesStdErr = stats.linregress(it, services)"
   ]
  },
  {
   "cell_type": "markdown",
   "metadata": {},
   "source": [
    "# Auto correlation"
   ]
  },
  {
   "cell_type": "markdown",
   "metadata": {},
   "source": [
    "## AC for arrives"
   ]
  },
  {
   "cell_type": "code",
   "execution_count": 177,
   "metadata": {},
   "outputs": [
    {
     "name": "stdout",
     "output_type": "stream",
     "text": [
      "The resulting p value for arrives is: 0.531302876867114 and its greater than 0.05.\n",
      "\n",
      "Autocorrelation for arrives is:  [ 1.          0.7         0.41212121  0.14848485 -0.07878788 -0.25757576\n",
      " -0.37575758 -0.42121212 -0.38181818 -0.24545455]\n"
     ]
    }
   ],
   "source": [
    "if(arrivesPValue>0.05):\n",
    "    print(\"The resulting p value for arrives is: {} and its greater than 0.05.\\n\".format(arrivesPValue))\n",
    "    r = (np.correlate(it-it.mean(),it-it.mean(), mode='full'))/(it.var()*len(it))\n",
    "    arrivesAutoCor = r[r.size//2:]\n",
    "    print(\"Autocorrelation for arrives is: \", arrivesAutoCor)\n",
    "else:\n",
    "    print(\"P value for arrives is {}, the condition is not met.\".format(arrivesPValue))"
   ]
  },
  {
   "cell_type": "markdown",
   "metadata": {},
   "source": [
    "## AC for services"
   ]
  },
  {
   "cell_type": "code",
   "execution_count": 178,
   "metadata": {},
   "outputs": [
    {
     "name": "stdout",
     "output_type": "stream",
     "text": [
      "The resulting p value for arrives is: 0.05934418922780965 and its greater than 0.05.\n",
      "\n",
      "Autocorrelation for arrives is:  [ 1.          0.7         0.41212121  0.14848485 -0.07878788 -0.25757576\n",
      " -0.37575758 -0.42121212 -0.38181818 -0.24545455]\n"
     ]
    }
   ],
   "source": [
    "if(servicesPValue>0.05):\n",
    "    print(\"The resulting p value for arrives is: {} and its greater than 0.05.\\n\".format(servicesPValue))\n",
    "    r = (np.correlate(it-it.mean(),it-it.mean(), mode='full'))/(it.var()*len(it))\n",
    "    servicesAutoCor = r[r.size//2:]\n",
    "    print(\"Autocorrelation for arrives is: \", servicesAutoCor)\n",
    "else:\n",
    "    print(\"P value for arrives is {}, the condition is not met.\".format(servicesPValue))"
   ]
  },
  {
   "cell_type": "code",
   "execution_count": 179,
   "metadata": {},
   "outputs": [],
   "source": [
    "#Set the distributions list\n",
    "distributions = [\n",
    "    \"gamma\",\n",
    "    \"expon\",\n",
    "    \"lognorm\",\n",
    "    \"weibull_min\",  \n",
    "    \"weibull_max\",\n",
    "    \"norm\"\n",
    "]"
   ]
  },
  {
   "cell_type": "markdown",
   "metadata": {},
   "source": [
    "# Find distribution"
   ]
  },
  {
   "cell_type": "markdown",
   "metadata": {},
   "source": [
    "## for arrives"
   ]
  },
  {
   "cell_type": "code",
   "execution_count": 185,
   "metadata": {},
   "outputs": [
    {
     "name": "stdout",
     "output_type": "stream",
     "text": [
      "P Values for each distribution:\n",
      "\n",
      "gamma: 0.6274911732513193\n",
      "expon: 0.9154078507629974\n",
      "lognorm: 0.8886717507648648\n",
      "weibull_min: 0.33910606708390123\n",
      "weibull_max: 0.00017984630103362598\n",
      "norm: 0.5035132633968178\n",
      "\n",
      "The correct distribution for the dataset is expon as it has the highest p value (0.9154078507629974).\n"
     ]
    }
   ],
   "source": [
    "arrivesDistributionResults = []\n",
    "for distName in distributions:\n",
    "    dist = getattr(stats, distName)\n",
    "    fittedData = dist.fit(arrives)\n",
    "    D, p = stats.kstest(arrives, distName, args=fittedData);\n",
    "    arrivesDistributionResults.append((distName,p))\n",
    "auxP = 0\n",
    "arrivesAuxDist = \"\"\n",
    "print(\"P Values for each distribution:\\n\")\n",
    "for distribution in arrivesDistributionResults:\n",
    "    print(\"{}: {}\".format(distribution[0], distribution[1]))\n",
    "    if(auxP<distribution[1]):\n",
    "        auxP = distribution[1]\n",
    "        arrivesAuxDist = distribution[0]\n",
    "print(\"\\nThe correct distribution for the dataset is {0} as it has the highest p value ({1}).\".format(arrivesAuxDist,auxP))"
   ]
  },
  {
   "cell_type": "markdown",
   "metadata": {},
   "source": [
    "## for services"
   ]
  },
  {
   "cell_type": "code",
   "execution_count": 183,
   "metadata": {},
   "outputs": [
    {
     "name": "stdout",
     "output_type": "stream",
     "text": [
      "P Values for each distribution:\n",
      "\n",
      "gamma: 0.0179151424898778\n",
      "expon: 0.9516761764619848\n",
      "lognorm: 0.03363207850499084\n",
      "weibull_min: 9.725542832561551e-05\n",
      "weibull_max: 9.269459789296164e-06\n",
      "norm: 0.7344559764901557\n",
      "\n",
      "The correct distribution for the dataset is expon as it has the highest p value (0.9516761764619848).\n"
     ]
    }
   ],
   "source": [
    "servicesDistributionResults = []\n",
    "for distName in distributions:\n",
    "    dist = getattr(stats, distName)\n",
    "    fittedData = dist.fit(services)\n",
    "    D, p = stats.kstest(services, distName, args=fittedData);\n",
    "    servicesDistributionResults.append((distName,p))\n",
    "auxP = 0\n",
    "servicesAuxDist = \"\"\n",
    "print(\"P Values for each distribution:\\n\")\n",
    "for distribution in servicesDistributionResults:\n",
    "    print(\"{}: {}\".format(distribution[0], distribution[1]))\n",
    "    if(auxP<distribution[1]):\n",
    "        auxP = distribution[1]\n",
    "        servicesAuxDist = distribution[0]\n",
    "print(\"\\nThe correct distribution for the dataset is {0} as it has the highest p value ({1}).\".format(servicesAuxDist,auxP))"
   ]
  },
  {
   "cell_type": "code",
   "execution_count": null,
   "metadata": {},
   "outputs": [],
   "source": [
    "#This block has the function that is intended to calculate the arrival and service time in a random way\n",
    "#based on the amount of minutes of work in a day.\n",
    "\n",
    "##It returns two lists: arrival times and services times.\n",
    "\n",
    "def generateArrivalAndServiceTimes():\n",
    "    workingDay = 8*60 #8 hours expressed in minutes.\n",
    "    arrivals = [] #This will contain the arrival times for n works in a day.\n",
    "    services = [] #This will contain the service times for n works in a day.\n",
    "    totalAmountOfHours = 0\n",
    "    while totalAmountOfHours < workingDay:\n",
    "        nArrivalTime = expovariate(0.5)\n",
    "        nServiceTime = expovariate(0.6)\n",
    "        totalAmountOfHours += nArrivalTime\n",
    "        arrivals.append(nArrivalTime)\n",
    "        services.append(nServiceTime)\n",
    "    return arrivals, services"
   ]
  }
 ],
 "metadata": {
  "kernelspec": {
   "display_name": "Python 3",
   "language": "python",
   "name": "python3"
  },
  "language_info": {
   "codemirror_mode": {
    "name": "ipython",
    "version": 3
   },
   "file_extension": ".py",
   "mimetype": "text/x-python",
   "name": "python",
   "nbconvert_exporter": "python",
   "pygments_lexer": "ipython3",
   "version": "3.6.5"
  }
 },
 "nbformat": 4,
 "nbformat_minor": 2
}
